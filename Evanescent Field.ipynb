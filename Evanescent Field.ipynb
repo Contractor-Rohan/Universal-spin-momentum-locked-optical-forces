{
 "cells": [
  {
   "cell_type": "markdown",
   "metadata": {},
   "source": [
    "### This transcript calculates transmission and reflection for a TM incident wave with arbitrary angle of incident from a N-layer 2D system (x, z) exp(ikr-iwt)"
   ]
  },
  {
   "cell_type": "code",
   "execution_count": 272,
   "metadata": {},
   "outputs": [],
   "source": [
    "import numpy as np\n",
    "import pandas as pd \n",
    "import matplotlib.pyplot as plt\n",
    "import math\n",
    "import cmath\n",
    "from scipy.linalg import expm"
   ]
  },
  {
   "cell_type": "code",
   "execution_count": 273,
   "metadata": {},
   "outputs": [],
   "source": [
    "epsilon_0 = 8.85e-12;\n",
    "mu_0 = 1.26e-6;\n",
    "N = 2     # N is the number of layers inclusing the two semi infinite layers so N>1\n",
    "N_d = 1   # N_d is the resolution for distance of dipole from the surface\n",
    "N_z = 20  # N_z is the resolution for calculationg the fields\n",
    "N_x = 20\n",
    "N_lambda = 1\n",
    "N_kx = 1"
   ]
  },
  {
   "cell_type": "code",
   "execution_count": 274,
   "metadata": {},
   "outputs": [],
   "source": [
    "# alpha_** are the elements of the polarizability matrix\n",
    "\n",
    "alpha_ee = 2\n",
    "alpha_mm = 1\n",
    "alpha_em = 0.1\n",
    "alpha_me = alpha_em"
   ]
  },
  {
   "cell_type": "code",
   "execution_count": 275,
   "metadata": {},
   "outputs": [],
   "source": [
    "n = np.ones((N,1),dtype = complex)\n",
    "\n",
    "# n is the refractive indecies for the N layers"
   ]
  },
  {
   "cell_type": "code",
   "execution_count": 276,
   "metadata": {},
   "outputs": [],
   "source": [
    "permit = n**2\n",
    "\n",
    "# permit is a Nx1 matrix of the permittivity of the layers"
   ]
  },
  {
   "cell_type": "code",
   "execution_count": 277,
   "metadata": {},
   "outputs": [],
   "source": [
    "\n",
    "if N-1 == 1:\n",
    "    z = np.array([np.linspace(0, 0e-9, 2)])\n",
    "    z = np.array([[z[0][1]]])\n",
    "else:\n",
    "    z = np.array([np.linspace(0, 0e-9, N-1)])\n",
    "    \n",
    "# Z is the position of the interfaces of the layers"
   ]
  },
  {
   "cell_type": "code",
   "execution_count": 278,
   "metadata": {},
   "outputs": [],
   "source": [
    "z_obs = np.array([np.linspace(-75e-9, 75e-9, N_z)]);  #this matrix shows the z component of the points in which the fields are being calculated\n",
    "x = np.array([np.linspace(0, 150e-9, N_x)]); \n",
    "\n",
    "z_layer = np.ones((z_obs.shape), dtype = int);"
   ]
  },
  {
   "cell_type": "code",
   "execution_count": 279,
   "metadata": {},
   "outputs": [],
   "source": [
    "for i_layer in range(0,z_obs.shape[1]):\n",
    "    if z_obs[0][i_layer] > 0:\n",
    "        z_layer[0][i_layer] = z_layer[0][i_layer] + 1"
   ]
  },
  {
   "cell_type": "code",
   "execution_count": 280,
   "metadata": {},
   "outputs": [],
   "source": [
    "#d is the distance of the dipole from the surface.\n",
    "\n",
    "if N_d == 1 :\n",
    "    d = np.array([np.linspace(0,300*1e-9, 2)])\n",
    "    d = np.array([[d[0][1]]])   \n",
    "else:\n",
    "    d = np.array([np.linspace(0,300*1e-9, N_d)]) "
   ]
  },
  {
   "cell_type": "code",
   "execution_count": 281,
   "metadata": {},
   "outputs": [],
   "source": [
    "c_0 = 3e8;\n",
    "\n",
    "if N_lambda == 1 :\n",
    "    lambda_0 = np.array([np.linspace(300e-9, 300e-9, 2)])\n",
    "    lambda_0 = np.array([[lambda_0[0][1]]])   \n",
    "else:\n",
    "    lambda_0 = np.array([np.linspace(300e-9, 300e-9, N_lambda)]) \n",
    "\n",
    "\n",
    "w = 2*np.pi*c_0/lambda_0\n",
    "k_0 = w/c_0;\n",
    "\n",
    "if N_kx == 1 :\n",
    "    k_x = np.array([np.linspace(0, (k_0[0]*15*n[0])[0], 2)])\n",
    "    k_x =  np.array([[k_x[0][1]]])\n",
    "else:\n",
    "    k_x = np.array([np.linspace(0, (k_0[0]*15*n[0])[0], N_kx)])\n",
    "#c_0 is the speed of light in vacuum. w is the angular frequency. \n",
    "#lambda_0 is the wavelength in vacuum and k_0 is the wave number in vacuum."
   ]
  },
  {
   "cell_type": "code",
   "execution_count": 282,
   "metadata": {},
   "outputs": [],
   "source": [
    "# [r, t]= meshgrid(k_x, lambda_0);\n",
    "\n",
    "r_p = np.zeros((lambda_0.shape[1],k_x.shape[1]), dtype = complex)\n",
    "t_p = np.zeros((lambda_0.shape[1],k_x.shape[1]), dtype = complex)\n",
    "R_p = np.zeros((lambda_0.shape[1],k_x.shape[1]), dtype = complex)\n",
    "T_p = np.zeros((lambda_0.shape[1],k_x.shape[1]), dtype = complex)\n",
    "\n",
    "#t and r are Transmission and reflection for H and T and R are transmission and reflection for power."
   ]
  },
  {
   "cell_type": "code",
   "execution_count": 283,
   "metadata": {},
   "outputs": [],
   "source": [
    "r_s = np.zeros((lambda_0.shape[1],k_x.shape[1]), dtype = complex)\n",
    "t_s = np.zeros((lambda_0.shape[1],k_x.shape[1]), dtype = complex)\n",
    "R_s = np.zeros((lambda_0.shape[1],k_x.shape[1]), dtype = complex)\n",
    "T_s = np.zeros((lambda_0.shape[1],k_x.shape[1]), dtype = complex)"
   ]
  },
  {
   "cell_type": "code",
   "execution_count": 284,
   "metadata": {},
   "outputs": [],
   "source": [
    "H_y = np.zeros((N_z, N_x), dtype = complex);\n",
    "E_x = np.zeros((N_z, N_x), dtype = complex);\n",
    "E_z = np.zeros((N_z, N_x), dtype = complex);\n",
    "S_x = np.zeros((1, N_z), dtype = complex);\n",
    "S_y = np.zeros((1, N_z), dtype = complex);\n",
    "S_z = np.zeros((1, N_z), dtype = complex);\n",
    "Le_x = np.zeros((1, N_z), dtype = complex);\n",
    "Le_y = np.zeros((1, N_z), dtype = complex);\n",
    "Le_z = np.zeros((1, N_z), dtype = complex);\n",
    "Lm_x = np.zeros((1, N_z), dtype = complex);\n",
    "Lm_y = np.zeros((1, N_z), dtype = complex);\n",
    "Lm_z = np.zeros((1, N_z), dtype = complex);\n",
    "U = np.zeros((1, N_z), dtype = complex);"
   ]
  },
  {
   "cell_type": "code",
   "execution_count": 285,
   "metadata": {},
   "outputs": [],
   "source": [
    "F_gf_matrix = np.zeros((N_lambda, N_kx, 3));\n",
    "F_rp_matrix = np.zeros((N_lambda, N_kx, 3));\n",
    "F_esd_matrix = np.zeros((N_lambda, N_kx, 3));\n",
    "F_matrix = np.zeros((N_lambda, N_kx, 3));"
   ]
  },
  {
   "cell_type": "code",
   "execution_count": 286,
   "metadata": {},
   "outputs": [],
   "source": [
    "ro = r_s;\n",
    "# ro is W-LDOS defined in \"Quantum nanophotonics using HMM\" apendix C."
   ]
  },
  {
   "cell_type": "code",
   "execution_count": 287,
   "metadata": {},
   "outputs": [],
   "source": [
    "x_plot, z_plot = np.meshgrid(x/lambda_0, z_obs/lambda_0);\n",
    "#k_x_normalized and lambda_normalized are used for plotting"
   ]
  },
  {
   "cell_type": "code",
   "execution_count": 300,
   "metadata": {},
   "outputs": [],
   "source": [
    "for i_d in range(0,N_d):\n",
    "    for i_lambda in range(0,N_lambda):\n",
    "        n[0] = 3.5;\n",
    "        n[N-1] = 1;\n",
    "        \n",
    "        if N_kx == 1:\n",
    "            k_x = np.array([np.linspace(k_0[i_lambda], k_0[i_lambda]/math.sqrt(2)*n[0], 2)])\n",
    "            k_x = np.array([k_x[0][1]])\n",
    "        else:\n",
    "            k_x = np.array([np.linspace(k_0[i_lambda], k_0[i_lambda]/math.sqrt(2)*n[0], N_kx)])\n",
    "            \n",
    "        permit= n**2;\n",
    "        for i_kx in range(0,N_kx):\n",
    "            \n",
    "            k_z = ((np.ones((N, 1),dtype = np.complex_)*(k_0[i_lambda-1]*n))**2 - k_x[i_kx-1]**2)**0.5\n",
    "            #k_z is a Nx1 matrix of the wavenumbers along the z direction for rach layer\n",
    "            \n",
    "            M_p = np.identity(2,dtype = complex);\n",
    "            for i_layer in range(0,N-1):\n",
    "                 M_p = np.dot(M_p,np.dot(np.linalg.inv((np.array([[cmath.exp(1j*k_z[i_layer]*z[i_layer]),0],[0,cmath.exp(-1j*k_z[i_layer]*z[i_layer])]])))\\\n",
    "                ,np.dot(np.linalg.inv((np.array([[1, 1],[(k_z[i_layer]/permit[i_layer])[0], (-k_z[i_layer]/permit[i_layer])[0]]])))\\\n",
    "                ,np.dot((np.array([[1, 1],[(k_z[i_layer+1]/permit[i_layer+1])[0], (-k_z[i_layer+1]/permit[i_layer+1])[0]]]))\\\n",
    "                ,(np.array([[cmath.exp(1j*(k_z[i_layer+1]*z[i_layer])[0]), 0],[0, cmath.exp(-1j*(k_z[i_layer+1]*z[i_layer])[0])]]))))))\n",
    "              \n",
    "                \n",
    "            #M is a 2x2 matrix which relates the amplitudes of the waves in the last layer to those of the first one\n",
    "            M_s = np.identity(2,dtype = complex)\n",
    "            for i_layer in range(0,N-1):\n",
    "                 M_s = np.dot(M_s,np.dot(np.linalg.inv((np.array([[cmath.exp(1j*k_z[i_layer]*z[i_layer]),0],[0,cmath.exp(-1j*k_z[i_layer]*z[i_layer])]])))\\\n",
    "                ,np.dot(np.linalg.inv((np.array([[1, 1],[(k_z[i_layer])[0], (-k_z[i_layer])[0]]])))\\\n",
    "                ,np.dot((np.array([[1, 1],[(k_z[i_layer+1])[0], (-k_z[i_layer+1])[0]]]))\\\n",
    "                ,(np.array([[cmath.exp(1j*(k_z[i_layer+1]*z[i_layer])[0]), 0],[0, cmath.exp(-1j*(k_z[i_layer+1]*z[i_layer])[0])]]))))))\n",
    "            \n",
    "            \n",
    "            t_p[i_lambda, i_kx] = (1/M_p[0, 0])*cmath.exp(1j*k_z[i_layer+1]*z[i_layer])\n",
    "            r_p[i_lambda, i_kx] = M_p[1, 0]/M_p[0, 0]\n",
    "            T_p[i_lambda, i_kx] = abs(t_p[i_lambda, i_kx])**2/abs(n[N-1])\n",
    "            R_p[i_lambda, i_kx] = abs(r_p[i_lambda, i_kx])**2 \n",
    "            \n",
    "            t_s[i_lambda, i_kx] = (1/M_p[0, 0])*cmath.exp(1j*k_z[i_layer+1]*z[i_layer])\n",
    "            r_s[i_lambda, i_kx] = M_p[1, 0]/M_p[0, 0]\n",
    "            T_s[i_lambda, i_kx] = abs(t_s[i_lambda, i_kx])**2/abs(n[N-1])\n",
    "            R_s[i_lambda, i_kx] = abs(r_s[i_lambda, i_kx])**2\n",
    "            \n",
    "            amp = np.zeros((2, N), dtype = complex)\n",
    "            vamp = np.zeros((2, N), dtype = complex)\n",
    "            amp[:,0] = np.array([[1 , r_p[0][0]]])\n",
    "            \n",
    "            for i_layer in range(1,N):\n",
    "                amp[:,i_layer] = np.dot(np.dot(np.linalg.inv((np.array([[cmath.exp(1j*k_z[i_layer]*z[i_layer-1]),0],[0,cmath.exp(-1j*k_z[i_layer]*z[i_layer-1])]])))\\\n",
    "                ,np.dot(np.linalg.inv((np.array([[1, 1],[(k_z[i_layer]/permit[i_layer])[0], (-k_z[i_layer]/permit[i_layer])[0]]])))\\\n",
    "                ,np.dot((np.array([[1, 1],[(k_z[i_layer-1]/permit[i_layer-1])[0], (-k_z[i_layer-1]/permit[i_layer-1])[0]]]))\\\n",
    "                ,(np.array([[cmath.exp(1j*(k_z[i_layer-1]*z[i_layer-1])[0]), 0],[0, cmath.exp(-1j*(k_z[i_layer-1]*z[i_layer-1])[0])]]))))), amp[:,i_layer - 1])\n",
    "                \n",
    "            amp[1][-1] = 0    \n",
    "            \n",
    "            for i_point in range(0,N_z):\n",
    "                temp2 = np.array([amp[:,(z_layer[0][i_point] - 1)]]).reshape(2,1)\n",
    "                temp3 = np.array([np.exp(1j*k_x[i_kx]*x[0])])           \n",
    "                temp = np.array([[cmath.exp(1j * k_z[z_layer[0][i_point] - 1] * z_obs[0][i_point]), cmath.exp(-1j * k_z[z_layer[0][i_point] - 1] * z_obs[0][i_point])]])\n",
    "                H_y[i_point,:] = np.dot(np.dot(temp,temp2),temp3)\n",
    "                \n",
    "                \n",
    "                temp4 = np.array([[cmath.exp(1j * k_z[z_layer[0][i_point] - 1] * z_obs[0][i_point]), -cmath.exp(-1j * k_z[z_layer[0][i_point] - 1] * z_obs[0][i_point])]])\n",
    "                temp5 = np.array([amp[:,(z_layer[0][i_point] - 1)]]).reshape(2,1)\n",
    "                temp6 = np.array([k_z[(z_layer[0][i_point] - 1)]/permit[(z_layer[0][i_point] - 1)]/epsilon_0**0.5*(mu_0**0.5)/k_0[0][i_lambda]*[np.exp(1j*k_x[i_kx]*x[0])]])\n",
    "                E_x[i_point,:] = np.dot(np.dot(temp4,temp5),temp6)\n",
    "                \n",
    "                temp7 = np.array([[-cmath.exp(1j * k_z[z_layer[0][i_point] - 1] * z_obs[0][i_point]), -cmath.exp(-1j * k_z[z_layer[0][i_point] - 1] * z_obs[0][i_point])]])\n",
    "                temp8 = np.array([amp[:,(z_layer[0][i_point] - 1)]]).reshape(2,1)\n",
    "                temp9 = np.array([k_x[i_kx]/permit[(z_layer[0][i_point] - 1)]/epsilon_0**0.5*(mu_0**0.5)/k_0[0][i_lambda]*[np.exp(1j*k_x[i_kx]*x[0])]])\n",
    "                E_z[i_point,:] = np.dot(np.dot(temp7,temp8),temp9)"
   ]
  },
  {
   "cell_type": "code",
   "execution_count": 303,
   "metadata": {},
   "outputs": [],
   "source": [
    "position = [200,200,380*4/3,380]"
   ]
  },
  {
   "cell_type": "code",
   "execution_count": 325,
   "metadata": {},
   "outputs": [
    {
     "data": {
      "text/plain": [
       "<Figure size 14400x14400 with 0 Axes>"
      ]
     },
     "metadata": {},
     "output_type": "display_data"
    },
    {
     "data": {
      "image/png": "[encoded data removed]",
      "text/plain": [
       "<Figure size 432x288 with 1 Axes>"
      ]
     },
     "metadata": {
      "needs_background": "light"
     },
     "output_type": "display_data"
    }
   ],
   "source": [
    "plt.figure(figsize = (200,200))\n",
    "fig, ax = plt.subplots()\n",
    "q = ax.quiver(x_plot,z_plot,E_x.real,E_z.real,color = \"Blue\")\n",
    "plt.axhline(color='r', linestyle='-')\n",
    "plt.title('Figure 1')\n",
    "plt.xlabel(r\"$ \\vec E  $\")\n",
    "plt.ylabel(r\"$ Z/\\lambda_0  $\")\n",
    "plt.show()"
   ]
  }
 ],
 "metadata": {
  "kernelspec": {
   "display_name": "Python 3",
   "language": "python",
   "name": "python3"
  },
  "language_info": {
   "codemirror_mode": {
    "name": "ipython",
    "version": 3
   },
   "file_extension": ".py",
   "mimetype": "text/x-python",
   "name": "python",
   "nbconvert_exporter": "python",
   "pygments_lexer": "ipython3",
   "version": "3.7.6"
  }
 },
 "nbformat": 4,
 "nbformat_minor": 4
}
