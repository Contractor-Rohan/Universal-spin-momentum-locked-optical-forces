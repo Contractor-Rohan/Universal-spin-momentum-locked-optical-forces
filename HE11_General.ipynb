{
 "cells": [
  {
   "cell_type": "markdown",
   "metadata": {},
   "source": [
    "HE11_General"
   ]
  },
  {
   "cell_type": "code",
   "execution_count": 1,
   "metadata": {},
   "outputs": [],
   "source": [
    "import numpy as np\n",
    "import scipy as sp\n",
    "import matplotlib.pyplot as plt\n",
    "import pandas as pd\n",
    "from scipy import special,linalg\n",
    "import cmath\n",
    "import math"
   ]
  },
  {
   "cell_type": "code",
   "execution_count": 2,
   "metadata": {},
   "outputs": [],
   "source": [
    "global n1,n2nc0,eps0,mu0,a,m,w,k0\n",
    "\n",
    "n1 = 1.5\n",
    "n2 = 1.0\n",
    "c0 = 3e8\n",
    "eps0 = 8.854187e-12\n",
    "mu0 = 1.256637e-6\n",
    "a = 5e-6\n",
    "m = 1"
   ]
  },
  {
   "cell_type": "code",
   "execution_count": 3,
   "metadata": {},
   "outputs": [],
   "source": [
    "def tot_power(A,B,C,D,beta,p,q,jj):\n",
    "    global n1,n2,c0,eps0,mu0,a,m,w,k0\n",
    "    res_r = 800\n",
    "    r = np.array([np.linspace(0.01*a,80*a,res_r)])\n",
    "    dr = (r[0][len(r[0]) - 1]-r[0][0])/(res_r+1)\n",
    "    power = 0\n",
    "    for j in range(0,res_r):\n",
    "        J1 = sp.special.jv(m, r[0][j]*p)\n",
    "        K1 = sp.special.kv(m, r[0][j]*q)\n",
    "        dJ1 = 0.5*(sp.special.jv(m-1,r[0][j]*p) - sp.special.jv(m+1,r[0][j]*p))\n",
    "        dK1 = -0.5*(sp.special.kv(m-1,r[0][j]*q) + sp.special.kv(m+1,r[0][j]*q))\n",
    "        point_r = r[0][j]\n",
    "        point_phi = 0\n",
    "        point_z = 0\n",
    "        \n",
    "        EH_array = field_calc(A,B,C,D,beta,p,q,J1,dJ1,K1,dK1,point_r,point_phi,point_z)\n",
    "        \n",
    "        E_r = EH_array[0]\n",
    "        E_phi = EH_array[1]\n",
    "        E_z = EH_array[2]\n",
    "        H_r = EH_array[3]\n",
    "        H_phi = EH_array[4]\n",
    "        H_z = EH_array[5]\n",
    "        \n",
    "        power = power + 2*np.pi*r[0][j]*dr*(1/2)*(E_r*np.conj(H_phi)-E_phi*np.conj(H_r))\n",
    "        \n",
    "    return power"
   ]
  },
  {
   "cell_type": "code",
   "execution_count": 4,
   "metadata": {},
   "outputs": [],
   "source": [
    "def field_calc( A, B, C, D, beta, p, q, J1, dJ1, K1, dK1, point_r,point_phi,point_z ):\n",
    "    global n1,n2,c0,eps0,mu0,a,m,w,k0\n",
    "\n",
    "    E_r =  A*1j*beta/p[0][0]*dJ1*np.exp(1j*m*point_phi)*np.exp(1j*beta*point_z) - B[0][0]*mu0*w[0][0]*m/p[0][0]**2/point_r*J1*np.exp(1j*m*point_phi)*np.exp(1j*beta*point_z)\n",
    "    \n",
    "    E_phi=  -A*beta*m/p**2/point_r*J1*np.exp(1j*m*point_phi)*np.exp(1j*beta*point_z) - B*1j*mu0*w/p*dJ1*np.exp(1j*m*point_phi)*np.exp(1j*beta*point_z)\n",
    "\n",
    "    E_z=    A*J1*np.exp(1j*m*point_phi)*np.exp(1j*beta*point_z);\n",
    "\n",
    "    H_r=    A*eps0*n1**2*w*m/p**2/point_r*J1*np.exp(1j*m*point_phi)*np.exp(1j*beta*point_z) + B*1j*beta/p*dJ1*np.exp(1j*m*point_phi)*np.exp(1j*beta*point_z)\n",
    "\n",
    "    H_phi=  A*1j*eps0*n1**2*w/p*dJ1*np.exp(1j*m*point_phi)*np.exp(1j*beta*point_z) - B*beta*m/p**2/point_r*J1*np.exp(1j*m*point_phi)*np.exp(1j*beta*point_z)\n",
    "\n",
    "    H_z=    B*J1*np.exp(1j*m*point_phi)*np.exp(1j*beta*point_z)\n",
    "    \n",
    "    if(type(point_r) == int):\n",
    "        if(point_r > a):\n",
    "            E_r = -C*1j*beta/q*dK1*np.exp(1j*m*point_phi)*np.exp(1j*beta*point_z) + D*mu0*w*m/q**2/point_r*K1*np.exp(1j*m*point_phi)*np.exp(1j*beta*point_z)\n",
    "            E_phi = C*beta*m/q**2/point_r*K1*np.exp(1j*m*point_phi)*np.exp(1j*beta*point_z) + D*1j*mu0*w/q*dK1*np.exp(1j*m*point_phi)*np.exp(1j*beta*point_z)\n",
    "            E_z= C*K1*np.exp(1j*m*point_phi)*np.exp(1j*beta*point_z)\n",
    "            H_r = -C*eps0*n2**2*w*m/q**2/point_r*K1*np.exp(1j*m*point_phi)*np.exp(1j*beta*point_z) - D*1j*beta/q*dK1*np.exp(1j*m*point_phi)*np.exp(1j*beta*point_z)\n",
    "            H_phi = -C*1j*eps0*n2**2*w/q*dK1*np.exp(1j*m*point_phi)*np.exp(1j*beta*point_z) + D*beta*m/q**2/point_r*K1*np.exp(1j*m*point_phi)*np.exp(1j*beta*point_z)\n",
    "            H_z = D*K1*np.exp(1j*m*point_phi)*np.exp(1j*beta*point_z)\n",
    "        else:\n",
    "            E_r = E_r\n",
    "            E_phi = E_phi\n",
    "            E_z = E_z\n",
    "            H_r = H_r\n",
    "            H_phi = H_phi\n",
    "            H_z = H_z\n",
    "            \n",
    "    else:\n",
    "        dummy = (point_r > a).astype(int)\n",
    "        dummy_inv = (point_r < a).astype(int)\n",
    "        dummy = dummy*(-C*1j*beta/q*dK1*np.exp(1j*m*point_phi)*np.exp(1j*beta*point_z) + D*mu0*w*m/q**2/point_r*K1*np.exp(1j*m*point_phi)*np.exp(1j*beta*point_z))\n",
    "        dummy_inv = E_r * dummy_inv\n",
    "        E_r = dummy + dummy_inv\n",
    "        \n",
    "        dummy = (point_r > a).astype(int)\n",
    "        dummy_inv = (point_r < a).astype(int)\n",
    "        dummy = dummy*(C*beta*m/q**2/point_r*K1*np.exp(1j*m*point_phi)*np.exp(1j*beta*point_z) + D*1j*mu0*w/q*dK1*np.exp(1j*m*point_phi)*np.exp(1j*beta*point_z))\n",
    "        dummy_inv = E_phi * dummy_inv\n",
    "        E_phi = dummy + dummy_inv\n",
    "        \n",
    "        dummy = (point_r > a).astype(int)\n",
    "        dummy_inv = (point_r < a).astype(int)\n",
    "        dummy = dummy*(C*K1*np.exp(1j*m*point_phi)*np.exp(1j*beta*point_z))\n",
    "        dummy_inv = E_z * dummy_inv\n",
    "        E_z = dummy + dummy_inv\n",
    "        \n",
    "        dummy = (point_r > a).astype(int)\n",
    "        dummy_inv = (point_r < a).astype(int)\n",
    "        dummy = dummy*(-C*eps0*n2**2*w*m/q**2/point_r*K1*np.exp(1j*m*point_phi)*np.exp(1j*beta*point_z) - D*1j*beta/q*dK1*np.exp(1j*m*point_phi)*np.exp(1j*beta*point_z))\n",
    "        dummy_inv = H_r * dummy_inv\n",
    "        H_r = dummy + dummy_inv\n",
    "        \n",
    "        dummy = (point_r > a).astype(int)\n",
    "        dummy_inv = (point_r < a).astype(int)\n",
    "        dummy = dummy*(-C*1j*eps0*n2**2*w/q*dK1*np.exp(1j*m*point_phi)*np.exp(1j*beta*point_z) + D*beta*m/q**2/point_r*K1*np.exp(1j*m*point_phi)*np.exp(1j*beta*point_z))\n",
    "        dummy_inv = H_phi * dummy_inv\n",
    "        H_phi = dummy + dummy_inv\n",
    "        \n",
    "        \n",
    "        dummy = (point_r > a).astype(int)\n",
    "        dummy_inv = (point_r < a).astype(int)\n",
    "        dummy = dummy*(D*K1*np.exp(1j*m*point_phi)*np.exp(1j*beta*point_z))\n",
    "        dummy_inv = H_z * dummy_inv\n",
    "        H_z = dummy + dummy_inv\n",
    "        \n",
    "        \n",
    "        \n",
    "    return [E_r,E_phi,E_z,H_r,H_phi,H_z,point_r,point_phi,point_z]"
   ]
  },
  {
   "cell_type": "code",
   "execution_count": 5,
   "metadata": {},
   "outputs": [],
   "source": [
    "alpha_ee = 1*(10e-9)**3\n",
    "alpha_em = 0.01*(10e-9)**3\n",
    "alpha_mm = 0.1*(10e-9)**3\n",
    "\n",
    "res_r = 1\n",
    "res_w = 1\n",
    "res_beta = 20000"
   ]
  },
  {
   "cell_type": "code",
   "execution_count": 6,
   "metadata": {},
   "outputs": [],
   "source": [
    "if res_w == 1:\n",
    "    mat_w = np.array([np.linspace(0.05e15, 0.1e15, 2)])\n",
    "    mat_w = np.array([[mat_w[0][1]]])\n",
    "else:\n",
    "    mat_w = np.array([np.linspace(0.05e15, 0.1e15, res_w)])"
   ]
  },
  {
   "cell_type": "code",
   "execution_count": 7,
   "metadata": {},
   "outputs": [],
   "source": [
    "mat_k0 = mat_w/c0\n",
    "\n",
    "F1 = np.zeros((3,mat_w.shape[1]),dtype = complex)\n",
    "F2 = np.zeros((3,mat_w.shape[1]),dtype = complex)\n",
    "F3 = np.zeros((3,mat_w.shape[1]),dtype = complex)\n",
    "F4 = np.zeros((3,mat_w.shape[1]),dtype = complex)\n",
    "F5 = np.zeros((3,mat_w.shape[1]),dtype = complex)\n",
    "F6 = np.zeros((3,mat_w.shape[1]),dtype = complex)\n",
    "F7 = np.zeros((3,mat_w.shape[1]),dtype = complex)\n",
    "F8 = np.zeros((3,mat_w.shape[1]),dtype = complex)\n",
    "F_tot = np.zeros((3,mat_w.shape[1]), dtype= complex)"
   ]
  },
  {
   "cell_type": "code",
   "execution_count": 8,
   "metadata": {},
   "outputs": [],
   "source": [
    "for jj in range(0,mat_w.shape[1]):\n",
    "    w = np.array([mat_w[jj]])\n",
    "    lambda_matrix = np.array([2*np.pi*c0*w])\n",
    "    k0 = w/c0\n",
    "    mat_V = k0*a*(n1**2 - n2**2)**0.5\n",
    "    \n",
    "    beta = np.array([np.linspace(n2*k0[0][0]*1.0000001 , n1*k0[0][0]*0.999999, res_beta)])\n",
    "    p = (n1**2*k0**2 -beta**2)**0.5\n",
    "    q = (beta**2 - n2**2*k0**2)**0.5\n",
    "    J1 = sp.special.jv(m,a*p)\n",
    "    K1 = sp.special.kv(m,a*q)\n",
    "    dJ1 = 0.5*(sp.special.jv(m-1,a*p) - sp.special.jv(m+1,a*p))\n",
    "    dK1 = -0.5*(sp.special.kv(m-1,a*q) + sp.special.kv(m+1,a*q))\n",
    "    \n",
    "    error = (dJ1/p/J1 + dK1/q/K1)*(dJ1/p/J1 + n2**2/n1**2*dK1/q/K1) - m**2/a**2*(1/p**2 + 1/q**2)*(1/p**2 + n2**2/n1**2/q**2)\n",
    "    \n",
    "    error_min = np.amin(abs(error))\n",
    "    error_min_index = np.where(abs(error) == error_min)\n",
    "    out_beta = beta[(error_min_index[0][0])][(error_min_index[1][0])]\n",
    "    \n",
    "    beta = 0\n",
    "    p = 0\n",
    "    q = 0\n",
    "    J1 = 0\n",
    "    K1 = 0\n",
    "    dJ1 = 0\n",
    "    dK1 = 0\n",
    "    \n",
    "        \n",
    "    beta = out_beta\n",
    "    beta_normal = out_beta\n",
    "    mat_b = (beta/k0 - n2)/(n1-n2)\n",
    "    w = mat_w\n",
    "    p = (n1**2*k0**2 -beta**2)**0.5\n",
    "    q = (beta**2 - n2**2*k0**2)**0.5\n",
    "    J1 = sp.special.jv(m,a*p)\n",
    "    K1 = sp.special.kv(m,a*q)\n",
    "    dJ1 = 0.5*(sp.special.jv(m-1,a*p) - sp.special.jv(m+1,a*p))\n",
    "    dK1 = -0.5*(sp.special.kv(m-1,a*q) + sp.special.kv(m+1,a*q))\n",
    "    \n",
    "    A = 1\n",
    "    B = -A*J1*beta*m*(1/p**2 + 1/q**2)/a/1j/w/mu0/(J1/K1*dK1/q+dJ1/p)\n",
    "    C = A*J1/K1\n",
    "    D = B*J1/K1\n",
    "    \n",
    "    mat_B = B\n",
    "    mat_c = C\n",
    "    mat_D = D\n",
    "    \n",
    "    power = tot_power( A, B, C, D, beta, p, q, jj );\n",
    "    \n",
    "    J1 = 0\n",
    "    K1 = 0\n",
    "    dJ1 = 0\n",
    "    dK1 = 0\n",
    "    \n",
    "    r = 1.0*a+50e-9\n",
    "    \n",
    "    A = A/np.sqrt(power)\n",
    "    B = B/np.sqrt(power)\n",
    "    C = C/np.sqrt(power)\n",
    "    D = D/np.sqrt(power)\n",
    "    \n",
    "    K1 = sp.special.kn(m,r*q)\n",
    "    dK1 = -0.5*(sp.special.kn(m-1, r*q) + sp.special.kn(m+1,r*q))\n",
    "    ddK1 = 0.25*(sp.special.kn(m-2,r*q) + 2*sp.special.kn(m,r*q) + sp.special.kn(m+2 ,r*q))\n",
    "    \n",
    "    F1[0][jj] = 1/4*(alpha_ee.real*( 2*abs(C)**2*q*K1*dK1+2*(abs(C)**2*beta**2/q+abs(D)**2*mu0**2*w**2/q)*dK1*ddK1+2*(abs(D)**2*mu0**2*w**2*m**2/q**4+abs(C)**2*beta**2*m**2/q**4)*(-K1**2/r**3+q*K1*dK1/r**2)+(-2*C*np.conj(D)+2*np.conj(C)*D)*1j*beta*mu0*w*m/q**3*(-K1*dK1/r**2+q*dK1**2/r+q*K1*ddK1/r))\\\n",
    "                + alpha_mm.real*( 2*abs(D)**2*q*K1*dK1+2*(abs(D)**2*beta**2/q+abs(C)**2*eps0**2*n2**4*w**2/q)*dK1*ddK1+2*(abs(C)**2*eps0**2*n2**4*w**2*m**2/q**4+abs(D)**2*beta**2*m**2/q**4)*(-K1**2/r**3+q*K1*dK1/r**2)+(-2*C*np.conj(D)+2*np.conj(C)*D)*1j*beta*eps0*n2**2*w*m/q**3*(-K1*dK1/r**2+q*dK1**2/r+q*K1*ddK1/r))\\\n",
    "                - 2*alpha_em.real*((-2*abs(C)**2*eps0*n2**2-2*abs(D)**2*mu0)*1j*beta*w*m/q**3*(-K1*dK1/r**2+q*dK1**2/r+q*K1*ddK1/r)+2*(np.conj(C)*D*beta**2/q**2-C*np.conj(D)*mu0*w**2*eps0*n2**2/q**2)*q*dK1*ddK1+2*(-C*np.conj(D)*mu0*w**2*eps0*n2**2*m**2/q**4+np.conj(C)*D*beta**2*m**2/q**4)*(-K1**2/r**3+q*K1*dK1/r**2)+2*np.conj(C)*D*q*K1*dK1).imag)\n",
    "    F1[1][jj] = 0\n",
    "    F1[2][jj] = 0\n",
    "    \n",
    "    F2[0][jj] = 0\n",
    "    F2[1][jj] = (k0/eps0*(alpha_ee).imag+k0/mu0*(alpha_mm).imag-c0**2*k0**4/6/np.pi*((alpha_ee*np.conj(alpha_mm)).real+abs(alpha_em)**2))/c0*0.5*((-abs(C)**2*eps0*n2**2*w*m/q**2/r-abs(D)**2*mu0*w*m/q**2/r)*K1**2+2*C*np.conj(D)*1j*beta/q*K1*dK1)\n",
    "    F2[2][jj] = (k0/eps0*(alpha_ee).imag+k0/mu0*(alpha_mm).imag-c0**2*k0**4/6/np.pi*((alpha_ee*np.conj(alpha_mm)).real+abs(alpha_em)**2))/c0*0.5*((abs(C)**2*eps0*n2**2+abs(D)**2*mu0)*beta*w/q**2*(dK1**2+m**2*K1**2/q**2/r**2)+2*(-C*np.conj(D)*beta**2+D*np.conj(C)*mu0*eps0*n2**2*w**2)*1j*m/q**3/r*K1*dK1)\n",
    "    \n",
    "    F3[0][jj] = 0\n",
    "    F3[1][jj] = -(alpha_em).imag*(-1/2)*( 2*(abs(C)**2*eps0*n2**2+abs(D)**2*mu0)*beta*w/q**2*(q*dK1*ddK1+m**2/q/r**2*K1*dK1-m**2*K1**2/q**2/r**3)+2*(-C*np.conj(D)*beta**2+D*np.conj(C)*mu0*eps0*n2**2*w**2)*1j*m/q**3*(q*dK1**2/r+q*K1*ddK1/r-K1*dK1/r**2) )\n",
    "    F3[2][jj] = -(alpha_em).imag/r*( -(abs(C)**2*eps0*n2**2+abs(D)**2*mu0)*w*m/q*K1*dK1+C*np.conj(D)*1j*beta*(1/q*K1*dK1+r*dK1**2+r*K1*ddK1) )\n",
    "    \n",
    "    F4[0][jj] = 0 \n",
    "    F4[1][jj] = c0*k0/eps0*(alpha_ee).imag*(-eps0)/2/w/1j*( (-abs(C)**2*beta**2-abs(D)**2*mu0**2*w**2)*1j*m/q**3*(q*dK1**2/r+q*K1*ddK1/r-K1*dK1/r**2)-2*C*np.conj(D)*beta*mu0*w/q*dK1*ddK1+2*D*np.conj(C)*mu0*beta*w*m**2/q**4*(q*K1*dK1/r**2-K1**2/r**3) )\n",
    "    F4[2][jj] = c0*k0/eps0*(alpha_ee).imag*eps0/2/w/1j/r*( abs(C)**2*1j*beta/q*(q*r*dK1**2+q*r*K1*ddK1+K1*dK1)+2*C*np.conj(D)*mu0*w*m/q*K1*dK1 )\n",
    "    \n",
    "    F5[0][jj] = 0\n",
    "    F5[1][jj] = c0*k0/mu0*(alpha_mm).imag*(-mu0)/2/w/1j*( (-abs(C)**2*eps0**2*n2**4*w**2-abs(D)**2*beta**2)*1j*m/q**3*(q*dK1**2/r+q*K1*ddK1/r-K1*dK1/r**2)-2*C*np.conj(D)*eps0*n2**2*w*beta*m**2/q**4*(q*K1*dK1/r**2-K1**2/r**3)+2*D*np.conj(C)*eps0*n2**2*beta*w/q*K1*dK1 )\n",
    "    F5[2][jj] = c0*k0/mu0*(alpha_mm).imag*mu0/2/w/1j/r*( abs(D)**2*1j*beta/q*(q*r*dK1**2+q*r*K1*ddK1+K1*dK1)-2*D*np.conj(C)*eps0*n2**2*w*m/q*K1*dK1 )\n",
    "    \n",
    "    F6[0][jj] = 0\n",
    "    F6[1][jj] = w*(-2*w*(alpha_em).imag+c0*k0**4/3/np.pi/eps0*(alpha_ee*np.conj(alpha_em)).real)*eps0/2/w/1j*(abs(C)**2*1j*beta/q*K1*dK1+C*np.conj(D)*mu0*w*m/q**2/r*K1**2)\n",
    "    F6[2][jj] = w*(-2*w*(alpha_em).imag+c0*k0**4/3/np.pi/eps0*(alpha_ee*np.conj(alpha_em)).real)*eps0/2/w/1j*( (-abs(C)**2*beta**2-abs(D)**2*mu0**2*w**2)*1j*m/q**3/r*K1*dK1-C*np.conj(D)*beta*mu0*w/q**2*dK1**2+D*np.conj(C)*beta*mu0*w*m**2/q**4/r**2*K1**2 )\n",
    "    \n",
    "    F7[0][jj] = 0\n",
    "    F7[1][jj] = w*(-2*w*(alpha_em).imag+c0*k0**4/3/np.pi/mu0*(alpha_mm*np.conj(alpha_em)).real)*mu0/2/w/1j*(-D*np.conj(C)*eps0*n2**2*w*m/q**2/r*K1**2+abs(D)**2*1j*beta/q*K1*dK1)\n",
    "    F7[2][jj] = w*(-2*w*(alpha_em).imag+c0*k0**4/3/np.pi/mu0*(alpha_mm*np.conj(alpha_em)).real)*mu0/2/w/1j*((-abs(C)**2*eps0**2*n2**4*w**2-abs(D)**2*beta**2)*1j*m/q**3/r*K1*dK1-C*np.conj(D)*eps0*n2**2*w*beta*m**2/q**4/r**2*K1**2+D*np.conj(C)*beta*eps0*n2**2*w/q**2*dK1**2 )\n",
    "    \n",
    "    F8[0][jj] = c0*k0**4/12/np.pi*(alpha_ee*np.conj(alpha_mm)).imag*(abs(D)**2*mu0-abs(C)**2*eps0*n2**2)*w/q*K1*dK1;\n",
    "    F8[1][jj] = 0\n",
    "    F8[2][jj] = 0\n",
    "    \n",
    "    F_tot[0][jj] = F1[0, jj]+F2[0, jj]+F3[0, jj]+F4[0, jj]+F5[0, jj]+F6[0, jj]+F7[0, jj]+F8[0, jj]\n",
    "    F_tot[1][jj] = F1[1, jj]+F2[1, jj]+F3[1, jj]+F4[1, jj]+F5[1, jj]+F6[1, jj]+F7[1, jj]+F8[1, jj]\n",
    "    F_tot[2][jj] = F1[2, jj]+F2[2, jj]+F3[2, jj]+F4[2, jj]+F5[2, jj]+F6[2, jj]+F7[2, jj]+F8[2, jj]"
   ]
  },
  {
   "cell_type": "code",
   "execution_count": 9,
   "metadata": {},
   "outputs": [],
   "source": [
    "res_long_z = 20\n",
    "res_long_x = 20\n",
    "res_trns_x = 20\n",
    "res_trns_y = 20"
   ]
  },
  {
   "cell_type": "code",
   "execution_count": 10,
   "metadata": {},
   "outputs": [],
   "source": [
    "x_long = np.linspace(-2*a, 2*a, res_long_x)\n",
    "z_long = np.linspace(0*a, 4*a, res_long_z)\n",
    "x_trns = np.linspace(-2*a, 2*a, res_trns_x)\n",
    "y_trns = np.linspace(-2*a, 2*a, res_trns_y)"
   ]
  },
  {
   "cell_type": "code",
   "execution_count": 11,
   "metadata": {},
   "outputs": [],
   "source": [
    "mat_long_z,mat_long_x = np.meshgrid(z_long, x_long)\n",
    "mat_trns_x,mat_trns_y = np.meshgrid(x_trns, y_trns)"
   ]
  },
  {
   "cell_type": "code",
   "execution_count": 12,
   "metadata": {},
   "outputs": [],
   "source": [
    "point_r = abs(mat_long_x);\n",
    "point_phi = np.arctan2(0, mat_long_x);\n",
    "point_z = mat_long_z;"
   ]
  },
  {
   "cell_type": "code",
   "execution_count": 13,
   "metadata": {},
   "outputs": [],
   "source": [
    "J1 = sp.special.jv(m, point_r*p)\n",
    "K1 = sp.special.kn(m, point_r*q)\n",
    "dJ1 = 0.5*(sp.special.jv(m-1, point_r*p)- sp.special.jv(m+1, point_r*p))\n",
    "dK1 = -0.5*(sp.special.kn(m-1, point_r*q)+sp.special.kn(m+1, point_r*q))"
   ]
  },
  {
   "cell_type": "code",
   "execution_count": 14,
   "metadata": {},
   "outputs": [],
   "source": [
    "EH_array = field_calc(A,B,C,D,beta,p,q,J1,dJ1,K1,dK1,point_r,point_phi,point_z)"
   ]
  },
  {
   "cell_type": "code",
   "execution_count": 15,
   "metadata": {},
   "outputs": [],
   "source": [
    "E_long_r = EH_array[0]\n",
    "E_long_phi = EH_array[1]\n",
    "E_long_z = EH_array[2]\n",
    "H_long_r = EH_array[3]\n",
    "H_long_phi = EH_array[4]\n",
    "H_long_z = EH_array[5]"
   ]
  },
  {
   "cell_type": "code",
   "execution_count": 16,
   "metadata": {},
   "outputs": [],
   "source": [
    "E_long_x=    E_long_r*np.cos(point_phi)-E_long_phi*np.sin(point_phi)\n",
    "E_long_y=    E_long_r*np.sin(point_phi)+E_long_phi*np.cos(point_phi)\n",
    "H_long_x=    H_long_r*np.cos(point_phi)-H_long_phi*np.sin(point_phi)\n",
    "H_long_y=    H_long_r*np.sin(point_phi)+H_long_phi*np.cos(point_phi)"
   ]
  },
  {
   "cell_type": "code",
   "execution_count": 17,
   "metadata": {},
   "outputs": [],
   "source": [
    "Le_long_x=   eps0/4/w/1j*(E_long_y*np.conj(E_long_z)-E_long_z*np.conj(E_long_y))\n",
    "Le_long_y=   eps0/4/w/1j*(E_long_z*np.conj(E_long_x)-E_long_x*np.conj(E_long_z))\n",
    "Le_long_z=   eps0/4/w/1j*(E_long_x*np.conj(E_long_y)-E_long_y*np.conj(E_long_x))"
   ]
  },
  {
   "cell_type": "code",
   "execution_count": 18,
   "metadata": {},
   "outputs": [],
   "source": [
    "Lm_long_x =   mu0/4/w/1j*(H_long_y*np.conj(H_long_z)-H_long_z*np.conj(H_long_y))\n",
    "Lm_long_y =   mu0/4/w/1j*(H_long_z*np.conj(H_long_x)-H_long_x*np.conj(H_long_z))\n",
    "Lm_long_z =   mu0/4/w/1j*(H_long_x*np.conj(H_long_y)-H_long_y*np.conj(H_long_x))"
   ]
  },
  {
   "cell_type": "code",
   "execution_count": 19,
   "metadata": {},
   "outputs": [],
   "source": [
    "L_long_x=   Le_long_x+Lm_long_x\n",
    "L_long_y=   Le_long_y+Lm_long_y\n",
    "L_long_z=   Le_long_z+Lm_long_z"
   ]
  },
  {
   "cell_type": "code",
   "execution_count": 20,
   "metadata": {},
   "outputs": [],
   "source": [
    "S_long_x=   1/2*(E_long_y*np.conj(H_long_z)-E_long_z*np.conj(H_long_y))\n",
    "S_long_y=   1/2*(E_long_z*np.conj(H_long_x)-E_long_x*np.conj(H_long_z))\n",
    "S_long_z=   1/2*(E_long_x*np.conj(H_long_y)-E_long_y*np.conj(H_long_x))"
   ]
  },
  {
   "cell_type": "code",
   "execution_count": 21,
   "metadata": {},
   "outputs": [],
   "source": [
    "point_r=    abs((mat_trns_x**2+mat_trns_y**2)**0.5)\n",
    "point_phi=  np.arctan2(mat_trns_y, mat_trns_x)\n",
    "point_z=    np.zeros((mat_trns_x.shape),dtype = complex)"
   ]
  },
  {
   "cell_type": "code",
   "execution_count": 22,
   "metadata": {},
   "outputs": [],
   "source": [
    "J1 = sp.special.jv(m, point_r*p)\n",
    "K1 = sp.special.kn(m, point_r*q)\n",
    "dJ1 = 0.5*(sp.special.jv(m-1, point_r*p)- sp.special.jv(m+1, point_r*p))\n",
    "dK1 = -0.5*(sp.special.kn(m-1, point_r*q)+sp.special.kn(m+1, point_r*q))"
   ]
  },
  {
   "cell_type": "code",
   "execution_count": 23,
   "metadata": {},
   "outputs": [],
   "source": [
    "EH_array = field_calc(A,B,C,D,beta,p,q,J1,dJ1,K1,dK1,point_r,point_phi,point_z)"
   ]
  },
  {
   "cell_type": "code",
   "execution_count": 24,
   "metadata": {},
   "outputs": [],
   "source": [
    "E_trns_r = EH_array[0]\n",
    "E_trns_phi =EH_array[1]\n",
    "E_trns_z = EH_array[2]\n",
    "H_trns_r =EH_array[3]\n",
    "H_trns_phi =EH_array[4]\n",
    "H_trns_z =EH_array[5]"
   ]
  },
  {
   "cell_type": "code",
   "execution_count": 25,
   "metadata": {},
   "outputs": [],
   "source": [
    "E_trns_x=    E_trns_r*np.cos(point_phi)-E_trns_phi*np.sin(point_phi)\n",
    "E_trns_y=    E_trns_r*np.sin(point_phi)+E_trns_phi*np.cos(point_phi)\n",
    "H_trns_x=    H_trns_r*np.cos(point_phi)-H_trns_phi*np.sin(point_phi)\n",
    "H_trns_y=    H_trns_r*np.sin(point_phi)+H_trns_phi*np.cos(point_phi)"
   ]
  },
  {
   "cell_type": "code",
   "execution_count": 26,
   "metadata": {},
   "outputs": [],
   "source": [
    "Le_trns_x=   eps0/4/w/1j*(E_trns_y*np.conj(E_trns_z)-E_trns_z*np.conj(E_trns_y))\n",
    "Le_trns_y=   eps0/4/w/1j*(E_trns_z*np.conj(E_trns_x)-E_trns_x*np.conj(E_trns_z))\n",
    "Le_trns_z=   eps0/4/w/1j*(E_trns_x*np.conj(E_trns_y)-E_trns_y*np.conj(E_trns_x))"
   ]
  },
  {
   "cell_type": "code",
   "execution_count": 27,
   "metadata": {},
   "outputs": [],
   "source": [
    "Lm_trns_x=   mu0/4/w/1j*(H_trns_y*np.conj(H_trns_z)-H_trns_z*np.conj(H_trns_y))\n",
    "Lm_trns_y=   mu0/4/w/1j*(H_trns_z*np.conj(H_trns_x)-H_trns_x*np.conj(H_trns_z))\n",
    "Lm_trns_z=   mu0/4/w/1j*(H_trns_x*np.conj(H_trns_y)-H_trns_y*np.conj(H_trns_x))"
   ]
  },
  {
   "cell_type": "code",
   "execution_count": 28,
   "metadata": {},
   "outputs": [],
   "source": [
    "L_trns_x=   Le_trns_x+Lm_trns_x\n",
    "L_trns_y=   Le_trns_y+Lm_trns_y\n",
    "L_trns_z=   Le_trns_z+Lm_trns_z"
   ]
  },
  {
   "cell_type": "code",
   "execution_count": 29,
   "metadata": {},
   "outputs": [],
   "source": [
    "S_trns_x=   1/2*(E_trns_y*np.conj(H_trns_z)-E_trns_z*np.conj(H_trns_y))\n",
    "S_trns_y=   1/2*(E_trns_z*np.conj(H_trns_x)-E_trns_x*np.conj(H_trns_z))\n",
    "S_trns_z=   1/2*(E_trns_x*np.conj(H_trns_y)-E_trns_y*np.conj(H_trns_x))"
   ]
  },
  {
   "cell_type": "code",
   "execution_count": 30,
   "metadata": {},
   "outputs": [
    {
     "data": {
      "text/plain": [
       "<Figure size 14400x14400 with 0 Axes>"
      ]
     },
     "metadata": {},
     "output_type": "display_data"
    },
    {
     "data": {
      "image/png": "[encoded data removed]",
      "text/plain": [
       "<Figure size 432x288 with 1 Axes>"
      ]
     },
     "metadata": {
      "needs_background": "light"
     },
     "output_type": "display_data"
    }
   ],
   "source": [
    "plt.figure(figsize = (200,200))\n",
    "fig, ax = plt.subplots()\n",
    "q = ax.quiver(mat_long_z/a, mat_long_x/a,(E_long_z).real,(E_long_x).real,color = \"Blue\")\n",
    "plt.title('E')\n",
    "plt.xlabel('z/a')\n",
    "plt.ylabel('x/a')\n",
    "plt.savefig('hegeneral.pdf')\n",
    "plt.show()"
   ]
  },
  {
   "cell_type": "code",
   "execution_count": null,
   "metadata": {},
   "outputs": [],
   "source": []
  }
 ],
 "metadata": {
  "kernelspec": {
   "display_name": "Python 3",
   "language": "python",
   "name": "python3"
  },
  "language_info": {
   "codemirror_mode": {
    "name": "ipython",
    "version": 3
   },
   "file_extension": ".py",
   "mimetype": "text/x-python",
   "name": "python",
   "nbconvert_exporter": "python",
   "pygments_lexer": "ipython3",
   "version": "3.7.6"
  }
 },
 "nbformat": 4,
 "nbformat_minor": 4
}
