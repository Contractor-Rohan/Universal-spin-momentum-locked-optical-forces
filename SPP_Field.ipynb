{
 "cells": [
  {
   "cell_type": "code",
   "execution_count": 1,
   "metadata": {},
   "outputs": [],
   "source": [
    "import numpy as np\n",
    "import cmath\n",
    "import math\n",
    "import pandas as pd\n",
    "import scipy as sp\n",
    "import matplotlib.pyplot as plt\n",
    "import scipy.interpolate\n",
    "from scipy.linalg import expm"
   ]
  },
  {
   "cell_type": "code",
   "execution_count": 2,
   "metadata": {},
   "outputs": [],
   "source": [
    "def Refractive_Silver(lambdaa):\n",
    "    h = 6.626*1e-34\n",
    "    c = 3e8\n",
    "    E = h/1.6e-19*c/lambdaa\n",
    "    Energy=[0.64,\n",
    "    0.77,\n",
    "    0.89,\n",
    "    1.02,\n",
    "    1.14,\n",
    "    1.26,\n",
    "    1.39,\n",
    "    1.51,\n",
    "    1.64,\n",
    "    1.76,\n",
    "    1.88,\n",
    "    2.01,\n",
    "    2.13,\n",
    "    2.26,\n",
    "    2.38,\n",
    "    2.50,\n",
    "    2.63,\n",
    "    2.75,\n",
    "    2.88,\n",
    "    3,\n",
    "    3.12,\n",
    "    3.25,\n",
    "    3.37,\n",
    "    3.5,\n",
    "    3.62,\n",
    "    3.74,\n",
    "    3.87,\n",
    "    3.99,\n",
    "    4.12,\n",
    "    4.24,\n",
    "    4.36,\n",
    "    4.49,\n",
    "    4.61,\n",
    "    4.74,\n",
    "    4.86,\n",
    "    4.98,\n",
    "    5.11,\n",
    "    5.23,\n",
    "    5.36,\n",
    "    5.48,\n",
    "    5.6,\n",
    "    5.73,\n",
    "    5.85,\n",
    "    5.98,\n",
    "    6.1,\n",
    "    6.22,\n",
    "    6.35,\n",
    "    6.47,\n",
    "    6.6]\n",
    "    \n",
    "    Silver_eps=[0.24+1j*14.08,\n",
    "    0.15+1j*11.85,\n",
    "    0.13+1j*10.10,\n",
    "    0.09+1j*8.828,\n",
    "    0.04+1j*7.795,\n",
    "    0.04+1j*6.992,\n",
    "    0.04+1j*6.312,\n",
    "    0.04+1j*5.727,\n",
    "    0.03+1j*5.242,\n",
    "    0.04+1j*4.838,\n",
    "    0.05+1j*4.483,\n",
    "    0.06+1j*4.152,\n",
    "    0.05+1j*3.858,\n",
    "    0.06+1j*3.586,\n",
    "    0.05+1j*3.324,\n",
    "    0.05+1j*3.093,\n",
    "    0.05+1j*2.869,\n",
    "    0.04+1j*2.657,\n",
    "    0.04+1j*2.462,\n",
    "    0.05+1j*2.275,\n",
    "    0.05+1j*2.07,\n",
    "    0.05+1j*1.864,\n",
    "    0.07+1j*1.657,\n",
    "    0.10+1j*1.419,\n",
    "    0.14+1j*1.142,\n",
    "    0.17+1j*0.829,\n",
    "    0.81+1j*0.392,\n",
    "    1.13+1j*0.616,\n",
    "    1.34+1j*0.964,\n",
    "    1.39+1j*1.161,\n",
    "    1.41+1j*1.264,\n",
    "    1.41+1j*1.331,\n",
    "    1.38+1j*1.372,\n",
    "    1.35+1j*1.387,\n",
    "    1.33+1j*1.393,\n",
    "    1.31+1j*1.389,\n",
    "    1.30+1j*1.378,\n",
    "    1.28+1j*1.367,\n",
    "    1.28+1j*1.357,\n",
    "    1.26+1j*1.344,\n",
    "    1.25+1j*1.342,\n",
    "    1.22+1j*1.336,\n",
    "    1.20+1j*1.325,\n",
    "    1.18+1j*1.312,\n",
    "    1.15+1j*1.296,\n",
    "    1.14+1j*1.277,\n",
    "    1.12+1j*1.255,\n",
    "    1.10+1j*1.232,\n",
    "    1.07+1j*1.212]\n",
    "    \n",
    "    Energy = np.array([Energy])\n",
    "    Silver_eps = np.array([Silver_eps])\n",
    "  \n",
    "    eps = np.interp(E,Energy[0],Silver_eps[0]**2)\n",
    "    return eps"
   ]
  },
  {
   "cell_type": "code",
   "execution_count": 3,
   "metadata": {},
   "outputs": [],
   "source": [
    "epsilon_0 = 8.85e-12\n",
    "mu_0 = 1.26e-6\n",
    "\n",
    "N = 2     #N is the number of layers inclusing the two semi infinite layers so N>1\n",
    "N_d = 1   #N_d is the resolution for distance of dipole from the surface\n",
    "N_z = 20  #N_z is the resolution for calculationg the fields\n",
    "N_x = 20\n",
    "N_lambda = 1  \n",
    "N_kx = 6000  "
   ]
  },
  {
   "cell_type": "code",
   "execution_count": 4,
   "metadata": {},
   "outputs": [],
   "source": [
    "n = np.ones((N, 1),dtype = complex) #ok\n",
    "#n is the refractive indecies for the N layers\n",
    "\n",
    "permit = n**2\n",
    "\n",
    "if N-1 == 1:\n",
    "    z = np.array([np.linspace(0, 0e-9, 2)])\n",
    "    z = np.array([[z[0][1]]])\n",
    "else:\n",
    "    z = np.array([np.linspace(0, 0e-9, N-1)])\n",
    "    \n",
    "z_obs = np.array([np.linspace(-300e-9, 300e-9, N_z)])\n",
    "# this matrix shows the z component of the points in which the fields are being calculated\n",
    "\n",
    "x = np.array([np.linspace(0,600e-9,N_x)])"
   ]
  },
  {
   "cell_type": "code",
   "execution_count": 5,
   "metadata": {},
   "outputs": [
    {
     "data": {
      "text/plain": [
       "array([[0.00000000e+00, 3.15789474e-08, 6.31578947e-08, 9.47368421e-08,\n",
       "        1.26315789e-07, 1.57894737e-07, 1.89473684e-07, 2.21052632e-07,\n",
       "        2.52631579e-07, 2.84210526e-07, 3.15789474e-07, 3.47368421e-07,\n",
       "        3.78947368e-07, 4.10526316e-07, 4.42105263e-07, 4.73684211e-07,\n",
       "        5.05263158e-07, 5.36842105e-07, 5.68421053e-07, 6.00000000e-07]])"
      ]
     },
     "execution_count": 5,
     "metadata": {},
     "output_type": "execute_result"
    }
   ],
   "source": [
    "x"
   ]
  },
  {
   "cell_type": "code",
   "execution_count": 6,
   "metadata": {},
   "outputs": [],
   "source": [
    "z_layer = np.ones((1,20), dtype = int)\n",
    "\n",
    "for i_layer in range(0,z_obs.shape[1]):\n",
    "    if z_obs[0][i_layer] > 0:\n",
    "        z_layer[0][i_layer] = z_layer[0][i_layer] + 1"
   ]
  },
  {
   "cell_type": "code",
   "execution_count": 7,
   "metadata": {},
   "outputs": [
    {
     "data": {
      "text/plain": [
       "array([[1, 1, 1, 1, 1, 1, 1, 1, 1, 1, 2, 2, 2, 2, 2, 2, 2, 2, 2, 2]])"
      ]
     },
     "execution_count": 7,
     "metadata": {},
     "output_type": "execute_result"
    }
   ],
   "source": [
    "z_layer"
   ]
  },
  {
   "cell_type": "code",
   "execution_count": 8,
   "metadata": {},
   "outputs": [],
   "source": [
    "#d is the distance of the dipole from the surface.\n",
    "if N_d == 1 :\n",
    "    d = np.array([np.linspace(0,300*1e-9, 2)])\n",
    "    d = np.array([[d[0][1]]])   \n",
    "else:\n",
    "    d = np.array([np.linspace(0,300*1e-9, N_d)]) "
   ]
  },
  {
   "cell_type": "code",
   "execution_count": 9,
   "metadata": {},
   "outputs": [
    {
     "data": {
      "text/plain": [
       "array([[3.e-07]])"
      ]
     },
     "execution_count": 9,
     "metadata": {},
     "output_type": "execute_result"
    }
   ],
   "source": [
    "d"
   ]
  },
  {
   "cell_type": "code",
   "execution_count": 10,
   "metadata": {},
   "outputs": [],
   "source": [
    "c_0 = 3e8;\n",
    "\n",
    "if N_lambda == 1 :\n",
    "    lambda_0 = np.array([np.linspace(200e-9, 500e-9, 2)])\n",
    "    lambda_0 = np.array([[lambda_0[0][1]]])   \n",
    "else:\n",
    "    lambda_0 = np.array([np.linspace(200e-9, 500e-9, N_lambda)]) \n",
    "\n",
    "w = 2*np.pi*c_0/lambda_0\n",
    "k_0 = w/c_0;\n",
    "\n",
    "if N_kx == 1 :\n",
    "    k_x = np.array([np.linspace(0, (k_0[0]*15*n[0])[0], 2)])\n",
    "    k_x =  np.array([[k_x[0][1]]])\n",
    "else:\n",
    "    k_x = np.array([np.linspace(0, (k_0[0]*15*n[0])[0], N_kx)])\n",
    "    \n",
    "# k_x is the wavenumber in x direction and theta is the angle of incidence    "
   ]
  },
  {
   "cell_type": "code",
   "execution_count": 11,
   "metadata": {},
   "outputs": [
    {
     "data": {
      "text/plain": [
       "array([[0.00000000e+00+0.j, 3.14211634e+04+0.j, 6.28423268e+04+0.j, ...,\n",
       "        1.88432717e+08+0.j, 1.88464138e+08+0.j, 1.88495559e+08+0.j]])"
      ]
     },
     "execution_count": 11,
     "metadata": {},
     "output_type": "execute_result"
    }
   ],
   "source": [
    "k_x"
   ]
  },
  {
   "cell_type": "code",
   "execution_count": 12,
   "metadata": {},
   "outputs": [],
   "source": [
    "r_p = np.zeros((lambda_0.shape[1],k_x.shape[1]), dtype = complex )\n",
    "t_p = np.zeros((lambda_0.shape[1],k_x.shape[1]), dtype = complex )\n",
    "R_p = np.zeros((lambda_0.shape[1],k_x.shape[1]), dtype = complex )\n",
    "T_p = np.zeros((lambda_0.shape[1],k_x.shape[1]), dtype = complex )\n",
    "# t and r are Transmission and reflection for H and T and R are transmission and reflection for power."
   ]
  },
  {
   "cell_type": "code",
   "execution_count": 13,
   "metadata": {},
   "outputs": [],
   "source": [
    "r_s = np.zeros((lambda_0.shape[1],k_x.shape[1]), dtype = complex )\n",
    "t_s = np.zeros((lambda_0.shape[1],k_x.shape[1]), dtype = complex )\n",
    "R_s = np.zeros((lambda_0.shape[1],k_x.shape[1]), dtype = complex )\n",
    "T_s = np.zeros((lambda_0.shape[1],k_x.shape[1]), dtype = complex )"
   ]
  },
  {
   "cell_type": "code",
   "execution_count": 14,
   "metadata": {},
   "outputs": [],
   "source": [
    "H_y = np.zeros((N_z,N_x),dtype = complex)\n",
    "E_z = np.zeros((N_z,N_x),dtype = complex)\n",
    "E_x = np.zeros((N_z,N_x),dtype = complex)\n",
    "S_x = np.zeros((1,N_z),dtype = complex)\n",
    "S_y = np.zeros((1,N_z),dtype = complex)\n",
    "S_z = np.zeros((1,N_z),dtype = complex)\n",
    "Le_x = np.zeros((1,N_z),dtype = complex)\n",
    "Le_y = np.zeros((1,N_z),dtype = complex)\n",
    "Le_z = np.zeros((1,N_z),dtype = complex)\n",
    "Lm_x = np.zeros((1,N_z),dtype = complex)\n",
    "Lm_y = np.zeros((1,N_z),dtype = complex)\n",
    "Lm_z = np.zeros((1,N_z),dtype = complex)\n",
    "U = np.zeros((1,N_z),dtype = complex)"
   ]
  },
  {
   "cell_type": "code",
   "execution_count": 15,
   "metadata": {},
   "outputs": [
    {
     "data": {
      "text/plain": [
       "array([[1.+0.j],\n",
       "       [1.+0.j]])"
      ]
     },
     "execution_count": 15,
     "metadata": {},
     "output_type": "execute_result"
    }
   ],
   "source": [
    "n"
   ]
  },
  {
   "cell_type": "code",
   "execution_count": 16,
   "metadata": {},
   "outputs": [],
   "source": [
    "F_gf_matrix = np.zeros((N_lambda, N_kx, 3), dtype = complex)\n",
    "F_rp_matrix = np.zeros((N_lambda, N_kx, 3), dtype = complex)\n",
    "F_esd_matrix = np.zeros((N_lambda, N_kx, 3), dtype = complex)\n",
    "F_matrix = np.zeros((N_lambda, N_kx, 3), dtype = complex)"
   ]
  },
  {
   "cell_type": "code",
   "execution_count": 17,
   "metadata": {},
   "outputs": [],
   "source": [
    "ro = np.zeros((lambda_0.shape[1],k_x.shape[1]), dtype = complex )\n",
    "# ro is W-LDOS defined in \"Quantum nanophotonics using HMM\" apendix C.\n",
    "x_plot,z_plot = np.meshgrid(x/lambda_0, z_obs/lambda_0)\n",
    "\n",
    "kx_plot,lambda_plot = np.meshgrid(k_x, lambda_0)\n",
    "# k_x_normalized and lambda_normalized are used for plotting"
   ]
  },
  {
   "cell_type": "code",
   "execution_count": 18,
   "metadata": {},
   "outputs": [
    {
     "data": {
      "text/plain": [
       "array([1.+0.j])"
      ]
     },
     "execution_count": 18,
     "metadata": {},
     "output_type": "execute_result"
    }
   ],
   "source": [
    "n[1]"
   ]
  },
  {
   "cell_type": "code",
   "execution_count": 64,
   "metadata": {},
   "outputs": [],
   "source": [
    "#eps_silver = [0]\n",
    "for i_d in range(0,N_lambda):\n",
    "    for i_lambda in range(0,N_lambda):\n",
    "        n[0] = 1;\n",
    "        n[1] = Refractive_Silver(lambda_0[0][i_lambda])**0.5\n",
    "        eps_silver = Refractive_Silver(lambda_0[0][i_lambda])\n",
    "        k_x = np.linspace(k_0[i_lambda]*0,k_0[i_lambda]*6*n[0],N_kx)\n",
    "        kxplot = k_x\n",
    "        kx_normal_plot = k_x/k_0[i_lambda]\n",
    "        permit = n**2\n",
    "        \n",
    "        for i_kx in range(0,N_kx):\n",
    "            k_z = ((np.ones((N,1))*k_0[i_lambda]*n)**2 - k_x[i_kx]**2)**0.5\n",
    "            M_p = np.identity(2,dtype = complex)\n",
    "            for i_layer in range(0,N-1):\n",
    "                 M_p = np.dot(M_p,np.dot(np.linalg.inv((np.array([[cmath.exp(1j*k_z[i_layer]*z[i_layer]),0],[0,cmath.exp(-1j*k_z[i_layer]*z[i_layer])]])))\\\n",
    "                ,np.dot(np.linalg.inv((np.array([[1, 1],[(k_z[i_layer]/permit[i_layer])[0], (-k_z[i_layer]/permit[i_layer])[0]]])))\\\n",
    "                ,np.dot((np.array([[1, 1],[(k_z[i_layer+1]/permit[i_layer+1])[0], (-k_z[i_layer+1]/permit[i_layer+1])[0]]]))\\\n",
    "                ,(np.array([[cmath.exp(1j*(k_z[i_layer+1]*z[i_layer])[0]), 0],[0, cmath.exp(-1j*(k_z[i_layer+1]*z[i_layer])[0])]]))))))\n",
    "                \n",
    "            M_s = np.identity(2,dtype = complex)\n",
    "            for i_layer in range(0,N-1):\n",
    "                 M_s = np.dot(M_s,np.dot(np.linalg.inv((np.array([[cmath.exp(1j*k_z[i_layer]*z[i_layer]),0],[0,cmath.exp(-1j*k_z[i_layer]*z[i_layer])]])))\\\n",
    "                ,np.dot(np.linalg.inv((np.array([[1, 1],[(k_z[i_layer])[0], (-k_z[i_layer])[0]]])))\\\n",
    "                ,np.dot((np.array([[1, 1],[(k_z[i_layer+1])[0], (-k_z[i_layer+1])[0]]]))\\\n",
    "                ,(np.array([[cmath.exp(1j*(k_z[i_layer+1]*z[i_layer])[0]), 0],[0, cmath.exp(-1j*(k_z[i_layer+1]*z[i_layer])[0])]]))))))\n",
    "                \n",
    "            t_p[i_lambda, i_kx]=   1/M_p[0, 0]*cmath.exp(1j*k_z[i_layer+1]*z[i_layer]);\n",
    "            r_p[i_lambda, i_kx]=   M_p[1, 0]/M_p[0, 0];\n",
    "            T_p[i_lambda, i_kx]=   abs(t_p[i_lambda, i_kx])**2/abs(n[N-1]);\n",
    "            R_p[i_lambda, i_kx]=   abs(r_p[i_lambda, i_kx])**2;    \n",
    "            \n",
    "            t_s[i_lambda, i_kx]=   1/M_s[0, 0]*cmath.exp(1j*k_z[i_layer+1]*z[i_layer]);\n",
    "            r_s[i_lambda, i_kx]=   M_s[1, 0]/M_p[0, 0];\n",
    "            T_s[i_lambda, i_kx]=   abs(t_s[i_lambda, i_kx])**2/abs(n[N-1]);\n",
    "            R_s[i_lambda, i_kx]=   abs(r_s[i_lambda, i_kx])**2; \n",
    "            \n",
    "            \n",
    "        k_x = k_x.reshape(k_x.shape[1],k_x.shape[0])    \n",
    "        max_val = np.amax(T_p[0])\n",
    "        ind = np.where(T_p == max_val)\n",
    "        beta = k_x[0][ind[1]]\n",
    "        \n",
    "        k_z = ((np.ones((N, 1),dtype = complex)*k_0[i_lambda]*n)**2 - beta**2)**0.5;\n",
    "        \n",
    "        M_p = np.identity(2,dtype = complex)\n",
    "        \n",
    "        for i_layer in range(0,N-1):\n",
    "            M_p = np.dot(M_p,np.dot(np.linalg.inv((np.array([[cmath.exp(1j*k_z[i_layer]*z[i_layer]),0],[0,cmath.exp(-1j*k_z[i_layer]*z[i_layer])]])))\\\n",
    "            ,np.dot(np.linalg.inv((np.array([[1, 1],[(k_z[i_layer]/permit[i_layer])[0], (-k_z[i_layer]/permit[i_layer])[0]]])))\\\n",
    "            ,np.dot((np.array([[1, 1],[(k_z[i_layer+1]/permit[i_layer+1])[0], (-k_z[i_layer+1]/permit[i_layer+1])[0]]]))\\\n",
    "            ,(np.array([[cmath.exp(1j*(k_z[i_layer+1]*z[i_layer])[0]), 0],[0, cmath.exp(-1j*(k_z[i_layer+1]*z[i_layer])[0])]]))))))\n",
    "                        \n",
    "        \n",
    "        amp = np.zeros((2,N),dtype = complex)\n",
    "        amp[:,0]= [1,r_p[i_lambda,ind[1]]]\n",
    "        \n",
    "        for i_layer in range(1,N):\n",
    "            amp[:,i_layer] = np.dot(np.dot(np.linalg.inv((np.array([[cmath.exp(1j*k_z[i_layer]*z[i_layer-1]),0],[0,cmath.exp(-1j*k_z[i_layer]*z[i_layer-1])]])))\\\n",
    "            ,np.dot(np.linalg.inv((np.array([[1, 1],[(k_z[i_layer]/permit[i_layer])[0], (-k_z[i_layer]/permit[i_layer])[0]]])))\\\n",
    "            ,np.dot((np.array([[1, 1],[(k_z[i_layer-1]/permit[i_layer-1])[0], (-k_z[i_layer-1]/permit[i_layer-1])[0]]]))\\\n",
    "            ,(np.array([[cmath.exp(1j*(k_z[i_layer-1]*z[i_layer-1])[0]), 0],[0, cmath.exp(-1j*(k_z[i_layer-1]*z[i_layer-1])[0])]]))))), amp[:,i_layer - 1])\n",
    "            \n",
    "        amp[1][-1] = 0\n",
    "        \n",
    "        k_x = k_x.reshape(k_x.shape[1],k_x.shape[0])\n",
    "        \n",
    "        for i_point in range(0,N_z):\n",
    "            temp = np.array([[cmath.exp(1j * k_z[z_layer[0][i_point] - 1] * z_obs[0][i_point]), cmath.exp(-1j * k_z[z_layer[0][i_point] - 1] * z_obs[0][i_point])]])\n",
    "            temp2 = np.array([amp[:,(z_layer[0][i_point] - 1)]]).reshape(2,1)\n",
    "            temp3 = np.array([np.exp(1j*beta*x[0])])           \n",
    "            H_y[i_point,:] = np.dot(np.dot(temp,temp2),temp3)\n",
    "                \n",
    "            temp4 = np.array([[cmath.exp(1j * k_z[z_layer[0][i_point] - 1] * z_obs[0][i_point]), -cmath.exp(-1j * k_z[z_layer[0][i_point] - 1] * z_obs[0][i_point])]])\n",
    "            temp5 = np.array([amp[:,(z_layer[0][i_point] - 1)]]).reshape(2,1)\n",
    "            temp6 = np.array(k_z[(z_layer[0][i_point] - 1)]/permit[(z_layer[0][i_point] - 1)]/(epsilon_0**0.5)*(mu_0**0.5)/k_0[0][i_lambda]*[np.exp(1j*beta*x[0])])\n",
    "            E_x[i_point,:] = np.dot(np.dot(temp4,temp5),temp6)\n",
    "                \n",
    "            temp7 = np.array([[-cmath.exp(1j * k_z[z_layer[0][i_point] - 1] * z_obs[0][i_point]), -cmath.exp(-1j * k_z[z_layer[0][i_point] - 1] * z_obs[0][i_point])]])\n",
    "            temp8 = np.array([amp[:,(z_layer[0][i_point] - 1)]]).reshape(2,1)\n",
    "            temp9 = np.array(beta/permit[(z_layer[0][i_point] - 1)]/(epsilon_0**0.5)*(mu_0**0.5)/k_0[0][i_lambda]*[np.exp(1j*beta*x[0])])\n",
    "            E_z[i_point,:] = np.dot(np.dot(temp7,temp8),temp9)        "
   ]
  },
  {
   "cell_type": "code",
   "execution_count": 94,
   "metadata": {},
   "outputs": [
    {
     "data": {
      "text/plain": [
       "<Figure size 14400x14400 with 0 Axes>"
      ]
     },
     "metadata": {},
     "output_type": "display_data"
    },
    {
     "data": {
      "image/png": "[encoded data removed]",
      "text/plain": [
       "<Figure size 432x288 with 1 Axes>"
      ]
     },
     "metadata": {
      "needs_background": "light"
     },
     "output_type": "display_data"
    }
   ],
   "source": [
    "plt.figure(figsize = (200,200))\n",
    "fig, ax = plt.subplots()\n",
    "q = ax.quiver(x_plot,z_plot,E_x.real,E_z.real,color = \"Blue\", scale = None , scale_units = 'inches')\n",
    "plt.axhline(color='r', linestyle='-')\n",
    "plt.title('Figure 1')\n",
    "plt.xlabel(r\"$ x/\\lambda_0 $\")\n",
    "plt.ylabel(r\"$ Z/\\lambda_0  $\")\n",
    "plt.savefig('SPP.pdf')\n",
    "plt.show()"
   ]
  }
 ],
 "metadata": {
  "kernelspec": {
   "display_name": "Python 3",
   "language": "python",
   "name": "python3"
  },
  "language_info": {
   "codemirror_mode": {
    "name": "ipython",
    "version": 3
   },
   "file_extension": ".py",
   "mimetype": "text/x-python",
   "name": "python",
   "nbconvert_exporter": "python",
   "pygments_lexer": "ipython3",
   "version": "3.7.6"
  }
 },
 "nbformat": 4,
 "nbformat_minor": 4
}
